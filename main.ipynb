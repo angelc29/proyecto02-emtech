{
 "cells": [
  {
   "cell_type": "code",
   "execution_count": 1,
   "id": "83cb5737",
   "metadata": {},
   "outputs": [],
   "source": [
    "import pandas as pd\n",
    "import seaborn as sns\n",
    "import numpy as np"
   ]
  },
  {
   "cell_type": "code",
   "execution_count": 2,
   "id": "a1b1b5dd",
   "metadata": {},
   "outputs": [],
   "source": [
    "# Configurando figuras de seaborn\n",
    "sns.set(rc={'figure.figsize':(15,8)})"
   ]
  },
  {
   "cell_type": "code",
   "execution_count": 3,
   "id": "f2d315b0",
   "metadata": {},
   "outputs": [],
   "source": [
    "%qtconsole"
   ]
  },
  {
   "cell_type": "code",
   "execution_count": 4,
   "id": "3479567a",
   "metadata": {},
   "outputs": [],
   "source": [
    "synergy_file = \"synergy_logistics_database.csv\"\n",
    "sldb = pd.read_csv(synergy_file, parse_dates = [5])"
   ]
  },
  {
   "cell_type": "code",
   "execution_count": 5,
   "id": "32d4f90a",
   "metadata": {},
   "outputs": [
    {
     "data": {
      "text/html": [
       "<div>\n",
       "<style scoped>\n",
       "    .dataframe tbody tr th:only-of-type {\n",
       "        vertical-align: middle;\n",
       "    }\n",
       "\n",
       "    .dataframe tbody tr th {\n",
       "        vertical-align: top;\n",
       "    }\n",
       "\n",
       "    .dataframe thead th {\n",
       "        text-align: right;\n",
       "    }\n",
       "</style>\n",
       "<table border=\"1\" class=\"dataframe\">\n",
       "  <thead>\n",
       "    <tr style=\"text-align: right;\">\n",
       "      <th></th>\n",
       "      <th>register_id</th>\n",
       "      <th>direction</th>\n",
       "      <th>origin</th>\n",
       "      <th>destination</th>\n",
       "      <th>year</th>\n",
       "      <th>date</th>\n",
       "      <th>product</th>\n",
       "      <th>transport_mode</th>\n",
       "      <th>company_name</th>\n",
       "      <th>total_value</th>\n",
       "    </tr>\n",
       "  </thead>\n",
       "  <tbody>\n",
       "    <tr>\n",
       "      <th>0</th>\n",
       "      <td>1</td>\n",
       "      <td>Exports</td>\n",
       "      <td>Japan</td>\n",
       "      <td>China</td>\n",
       "      <td>2015</td>\n",
       "      <td>2015-01-31</td>\n",
       "      <td>Cars</td>\n",
       "      <td>Sea</td>\n",
       "      <td>Honda</td>\n",
       "      <td>33000000</td>\n",
       "    </tr>\n",
       "    <tr>\n",
       "      <th>1</th>\n",
       "      <td>2</td>\n",
       "      <td>Exports</td>\n",
       "      <td>Japan</td>\n",
       "      <td>China</td>\n",
       "      <td>2015</td>\n",
       "      <td>2015-01-02</td>\n",
       "      <td>Cars</td>\n",
       "      <td>Sea</td>\n",
       "      <td>Honda</td>\n",
       "      <td>16000000</td>\n",
       "    </tr>\n",
       "    <tr>\n",
       "      <th>2</th>\n",
       "      <td>3</td>\n",
       "      <td>Exports</td>\n",
       "      <td>Japan</td>\n",
       "      <td>China</td>\n",
       "      <td>2015</td>\n",
       "      <td>2015-02-02</td>\n",
       "      <td>Cars</td>\n",
       "      <td>Sea</td>\n",
       "      <td>Honda</td>\n",
       "      <td>29000000</td>\n",
       "    </tr>\n",
       "    <tr>\n",
       "      <th>3</th>\n",
       "      <td>4</td>\n",
       "      <td>Exports</td>\n",
       "      <td>Japan</td>\n",
       "      <td>China</td>\n",
       "      <td>2015</td>\n",
       "      <td>2015-03-02</td>\n",
       "      <td>Cars</td>\n",
       "      <td>Sea</td>\n",
       "      <td>Honda</td>\n",
       "      <td>14000000</td>\n",
       "    </tr>\n",
       "    <tr>\n",
       "      <th>4</th>\n",
       "      <td>5</td>\n",
       "      <td>Exports</td>\n",
       "      <td>Japan</td>\n",
       "      <td>China</td>\n",
       "      <td>2015</td>\n",
       "      <td>2015-04-02</td>\n",
       "      <td>Cars</td>\n",
       "      <td>Sea</td>\n",
       "      <td>Honda</td>\n",
       "      <td>17000000</td>\n",
       "    </tr>\n",
       "    <tr>\n",
       "      <th>...</th>\n",
       "      <td>...</td>\n",
       "      <td>...</td>\n",
       "      <td>...</td>\n",
       "      <td>...</td>\n",
       "      <td>...</td>\n",
       "      <td>...</td>\n",
       "      <td>...</td>\n",
       "      <td>...</td>\n",
       "      <td>...</td>\n",
       "      <td>...</td>\n",
       "    </tr>\n",
       "    <tr>\n",
       "      <th>19051</th>\n",
       "      <td>19052</td>\n",
       "      <td>Imports</td>\n",
       "      <td>Japan</td>\n",
       "      <td>Singapore</td>\n",
       "      <td>2020</td>\n",
       "      <td>2020-06-27</td>\n",
       "      <td>Gas turbines</td>\n",
       "      <td>Sea</td>\n",
       "      <td>Union Energy Co</td>\n",
       "      <td>1000000</td>\n",
       "    </tr>\n",
       "    <tr>\n",
       "      <th>19052</th>\n",
       "      <td>19053</td>\n",
       "      <td>Imports</td>\n",
       "      <td>Malaysia</td>\n",
       "      <td>Singapore</td>\n",
       "      <td>2020</td>\n",
       "      <td>2020-06-28</td>\n",
       "      <td>Gas turbines</td>\n",
       "      <td>Sea</td>\n",
       "      <td>Union Energy Co</td>\n",
       "      <td>2000000</td>\n",
       "    </tr>\n",
       "    <tr>\n",
       "      <th>19053</th>\n",
       "      <td>19054</td>\n",
       "      <td>Imports</td>\n",
       "      <td>Malaysia</td>\n",
       "      <td>Singapore</td>\n",
       "      <td>2020</td>\n",
       "      <td>2020-06-29</td>\n",
       "      <td>Gas turbines</td>\n",
       "      <td>Sea</td>\n",
       "      <td>Union Energy Co</td>\n",
       "      <td>33000000</td>\n",
       "    </tr>\n",
       "    <tr>\n",
       "      <th>19054</th>\n",
       "      <td>19055</td>\n",
       "      <td>Imports</td>\n",
       "      <td>Malaysia</td>\n",
       "      <td>Singapore</td>\n",
       "      <td>2020</td>\n",
       "      <td>2020-06-30</td>\n",
       "      <td>Gas turbines</td>\n",
       "      <td>Sea</td>\n",
       "      <td>Union Energy Co</td>\n",
       "      <td>13000000</td>\n",
       "    </tr>\n",
       "    <tr>\n",
       "      <th>19055</th>\n",
       "      <td>19056</td>\n",
       "      <td>Imports</td>\n",
       "      <td>Malaysia</td>\n",
       "      <td>Singapore</td>\n",
       "      <td>2020</td>\n",
       "      <td>2020-01-07</td>\n",
       "      <td>Gas turbines</td>\n",
       "      <td>Sea</td>\n",
       "      <td>Union Energy Co</td>\n",
       "      <td>30000000</td>\n",
       "    </tr>\n",
       "  </tbody>\n",
       "</table>\n",
       "<p>19056 rows × 10 columns</p>\n",
       "</div>"
      ],
      "text/plain": [
       "       register_id direction    origin destination  year       date  \\\n",
       "0                1   Exports     Japan       China  2015 2015-01-31   \n",
       "1                2   Exports     Japan       China  2015 2015-01-02   \n",
       "2                3   Exports     Japan       China  2015 2015-02-02   \n",
       "3                4   Exports     Japan       China  2015 2015-03-02   \n",
       "4                5   Exports     Japan       China  2015 2015-04-02   \n",
       "...            ...       ...       ...         ...   ...        ...   \n",
       "19051        19052   Imports     Japan   Singapore  2020 2020-06-27   \n",
       "19052        19053   Imports  Malaysia   Singapore  2020 2020-06-28   \n",
       "19053        19054   Imports  Malaysia   Singapore  2020 2020-06-29   \n",
       "19054        19055   Imports  Malaysia   Singapore  2020 2020-06-30   \n",
       "19055        19056   Imports  Malaysia   Singapore  2020 2020-01-07   \n",
       "\n",
       "            product transport_mode     company_name  total_value  \n",
       "0              Cars            Sea            Honda     33000000  \n",
       "1              Cars            Sea            Honda     16000000  \n",
       "2              Cars            Sea            Honda     29000000  \n",
       "3              Cars            Sea            Honda     14000000  \n",
       "4              Cars            Sea            Honda     17000000  \n",
       "...             ...            ...              ...          ...  \n",
       "19051  Gas turbines            Sea  Union Energy Co      1000000  \n",
       "19052  Gas turbines            Sea  Union Energy Co      2000000  \n",
       "19053  Gas turbines            Sea  Union Energy Co     33000000  \n",
       "19054  Gas turbines            Sea  Union Energy Co     13000000  \n",
       "19055  Gas turbines            Sea  Union Energy Co     30000000  \n",
       "\n",
       "[19056 rows x 10 columns]"
      ]
     },
     "execution_count": 5,
     "metadata": {},
     "output_type": "execute_result"
    }
   ],
   "source": [
    "sldb"
   ]
  },
  {
   "cell_type": "code",
   "execution_count": 6,
   "id": "46d014c2",
   "metadata": {
    "scrolled": false
   },
   "outputs": [
    {
     "name": "stdout",
     "output_type": "stream",
     "text": [
      "<class 'pandas.core.frame.DataFrame'>\n",
      "RangeIndex: 19056 entries, 0 to 19055\n",
      "Data columns (total 10 columns):\n",
      " #   Column          Non-Null Count  Dtype         \n",
      "---  ------          --------------  -----         \n",
      " 0   register_id     19056 non-null  int64         \n",
      " 1   direction       19056 non-null  object        \n",
      " 2   origin          19056 non-null  object        \n",
      " 3   destination     19056 non-null  object        \n",
      " 4   year            19056 non-null  int64         \n",
      " 5   date            19056 non-null  datetime64[ns]\n",
      " 6   product         19056 non-null  object        \n",
      " 7   transport_mode  19056 non-null  object        \n",
      " 8   company_name    19056 non-null  object        \n",
      " 9   total_value     19056 non-null  int64         \n",
      "dtypes: datetime64[ns](1), int64(3), object(6)\n",
      "memory usage: 1.5+ MB\n"
     ]
    }
   ],
   "source": [
    "sldb.info()"
   ]
  },
  {
   "cell_type": "markdown",
   "id": "c1ff5d4a",
   "metadata": {},
   "source": [
    "<h3>PROBLEMA 1</h3>\n",
    "<p><b>Rutas con mayor flujo de importación y exportación</b></p> "
   ]
  },
  {
   "cell_type": "code",
   "execution_count": 7,
   "id": "d31486e1",
   "metadata": {},
   "outputs": [],
   "source": [
    "allRoutes = sldb.groupby(['origin','destination'])['register_id'].count()\n",
    "routes_demand = allRoutes.sort_values(ascending = False)\n",
    "routes_demand = routes_demand.to_frame().rename(columns={'register_id':'counter'})"
   ]
  },
  {
   "cell_type": "code",
   "execution_count": 8,
   "id": "cb07d0f4",
   "metadata": {},
   "outputs": [
    {
     "data": {
      "text/plain": [
       "<AxesSubplot:xlabel='origin', ylabel='counter'>"
      ]
     },
     "execution_count": 8,
     "metadata": {},
     "output_type": "execute_result"
    },
    {
     "data": {
      "image/png": "[encoded data removed]",
      "text/plain": [
       "<Figure size 1080x576 with 1 Axes>"
      ]
     },
     "metadata": {},
     "output_type": "display_data"
    }
   ],
   "source": [
    "sns.lineplot(data=routes_demand, x='origin',y='counter')"
   ]
  },
  {
   "cell_type": "code",
   "execution_count": 9,
   "id": "6255a8c4",
   "metadata": {},
   "outputs": [
    {
     "data": {
      "text/html": [
       "<div>\n",
       "<style scoped>\n",
       "    .dataframe tbody tr th:only-of-type {\n",
       "        vertical-align: middle;\n",
       "    }\n",
       "\n",
       "    .dataframe tbody tr th {\n",
       "        vertical-align: top;\n",
       "    }\n",
       "\n",
       "    .dataframe thead th {\n",
       "        text-align: right;\n",
       "    }\n",
       "</style>\n",
       "<table border=\"1\" class=\"dataframe\">\n",
       "  <thead>\n",
       "    <tr style=\"text-align: right;\">\n",
       "      <th></th>\n",
       "      <th></th>\n",
       "      <th>counter</th>\n",
       "    </tr>\n",
       "    <tr>\n",
       "      <th>origin</th>\n",
       "      <th>destination</th>\n",
       "      <th></th>\n",
       "    </tr>\n",
       "  </thead>\n",
       "  <tbody>\n",
       "    <tr>\n",
       "      <th>South Korea</th>\n",
       "      <th>Vietnam</th>\n",
       "      <td>497</td>\n",
       "    </tr>\n",
       "    <tr>\n",
       "      <th>Netherlands</th>\n",
       "      <th>Belgium</th>\n",
       "      <td>437</td>\n",
       "    </tr>\n",
       "    <tr>\n",
       "      <th>USA</th>\n",
       "      <th>Netherlands</th>\n",
       "      <td>436</td>\n",
       "    </tr>\n",
       "    <tr>\n",
       "      <th>Japan</th>\n",
       "      <th>Mexico</th>\n",
       "      <td>385</td>\n",
       "    </tr>\n",
       "    <tr>\n",
       "      <th rowspan=\"2\" valign=\"top\">China</th>\n",
       "      <th>Mexico</th>\n",
       "      <td>351</td>\n",
       "    </tr>\n",
       "    <tr>\n",
       "      <th>Japan</th>\n",
       "      <td>343</td>\n",
       "    </tr>\n",
       "    <tr>\n",
       "      <th>Germany</th>\n",
       "      <th>China</th>\n",
       "      <td>328</td>\n",
       "    </tr>\n",
       "    <tr>\n",
       "      <th>Japan</th>\n",
       "      <th>Brazil</th>\n",
       "      <td>306</td>\n",
       "    </tr>\n",
       "    <tr>\n",
       "      <th>Germany</th>\n",
       "      <th>France</th>\n",
       "      <td>299</td>\n",
       "    </tr>\n",
       "    <tr>\n",
       "      <th>South Korea</th>\n",
       "      <th>Japan</th>\n",
       "      <td>294</td>\n",
       "    </tr>\n",
       "  </tbody>\n",
       "</table>\n",
       "</div>"
      ],
      "text/plain": [
       "                         counter\n",
       "origin      destination         \n",
       "South Korea Vietnam          497\n",
       "Netherlands Belgium          437\n",
       "USA         Netherlands      436\n",
       "Japan       Mexico           385\n",
       "China       Mexico           351\n",
       "            Japan            343\n",
       "Germany     China            328\n",
       "Japan       Brazil           306\n",
       "Germany     France           299\n",
       "South Korea Japan            294"
      ]
     },
     "execution_count": 9,
     "metadata": {},
     "output_type": "execute_result"
    }
   ],
   "source": [
    "# Las 10 rutas mas demandadas\n",
    "routes_demand.head(10)"
   ]
  },
  {
   "cell_type": "markdown",
   "id": "6af4a166",
   "metadata": {},
   "source": [
    "<h3> PROBLEMA 2 </h3>\n",
    "<p>Medios de transporte con mayor relevancia</p>"
   ]
  },
  {
   "cell_type": "code",
   "execution_count": 10,
   "id": "4419419c",
   "metadata": {},
   "outputs": [
    {
     "data": {
      "text/plain": [
       "array(['Sea', 'Air', 'Rail', 'Road'], dtype=object)"
      ]
     },
     "execution_count": 10,
     "metadata": {},
     "output_type": "execute_result"
    }
   ],
   "source": [
    "# Se muestran los valores unicos de la columna transport_mode\n",
    "sldb['transport_mode'].unique()"
   ]
  },
  {
   "cell_type": "code",
   "execution_count": 11,
   "id": "bbe9affd",
   "metadata": {},
   "outputs": [
    {
     "data": {
      "text/plain": [
       "transport_mode\n",
       "Sea     100530622000\n",
       "Rail     43628043000\n",
       "Air      38262147000\n",
       "Road     33270486000\n",
       "Name: total_value, dtype: int64"
      ]
     },
     "execution_count": 11,
     "metadata": {},
     "output_type": "execute_result"
    }
   ],
   "source": [
    "# Se agrupa por medios de transporte y se suma el total generado por cada medio \n",
    "valTransport = sldb.groupby(['transport_mode'])['total_value'].sum().sort_values(ascending = False)\n",
    "valTransport"
   ]
  },
  {
   "cell_type": "code",
   "execution_count": 12,
   "id": "27135422",
   "metadata": {},
   "outputs": [
    {
     "data": {
      "text/plain": [
       "<AxesSubplot:xlabel='transport_mode', ylabel='count'>"
      ]
     },
     "execution_count": 12,
     "metadata": {},
     "output_type": "execute_result"
    },
    {
     "data": {
      "image/png": "[encoded data removed]",
      "text/plain": [
       "<Figure size 1080x576 with 1 Axes>"
      ]
     },
     "metadata": {},
     "output_type": "display_data"
    }
   ],
   "source": [
    "sns.countplot(data = sldb,x = 'transport_mode')"
   ]
  },
  {
   "cell_type": "markdown",
   "id": "63e52ea0",
   "metadata": {},
   "source": [
    "<h3>Problema 3</h3>\n",
    "<p><b>Valor total de importaciones y expotaciones</b></p>"
   ]
  },
  {
   "cell_type": "code",
   "execution_count": 13,
   "id": "9d420155",
   "metadata": {},
   "outputs": [],
   "source": [
    "exports = sldb[sldb['direction'] == 'Exports']\n",
    "imports = sldb[sldb['direction'] == 'Imports']"
   ]
  },
  {
   "cell_type": "code",
   "execution_count": 14,
   "id": "149783ec",
   "metadata": {},
   "outputs": [],
   "source": [
    "# Obtiene el valor total de exportaciones por cada ruta y ordena de mayor a menor\n",
    "routesExp = exports.groupby(['origin','destination'])['total_value'].sum()\n",
    "routesExp = routesExp.sort_values(ascending=False)\n",
    "# Obtiene el valor total de importaciones por cada ruta y ordena de mayor a menor\n",
    "routesImp = imports.groupby(['origin','destination'])['total_value'].sum()\n",
    "routesImp = routesImp.sort_values(ascending=False)"
   ]
  },
  {
   "cell_type": "code",
   "execution_count": 15,
   "id": "828d5eb6",
   "metadata": {
    "scrolled": true
   },
   "outputs": [
    {
     "data": {
      "text/plain": [
       "origin       destination   \n",
       "China        Mexico            12250000000\n",
       "Canada       Mexico             8450000000\n",
       "South Korea  Vietnam            6877007000\n",
       "France       Belgium            5538069000\n",
       "             United Kingdom     5427000000\n",
       "China        South Korea        4790000000\n",
       "USA          Mexico             4710000000\n",
       "South Korea  Japan              4594000000\n",
       "Germany      Italy              4541000000\n",
       "China        Germany            4090000000\n",
       "Name: total_value, dtype: int64"
      ]
     },
     "execution_count": 15,
     "metadata": {},
     "output_type": "execute_result"
    }
   ],
   "source": [
    "# Mostramos las 10 rutas de exportaciones con mayor ingreso total\n",
    "routesExp.head(10)"
   ]
  },
  {
   "cell_type": "code",
   "execution_count": 16,
   "id": "9828d455",
   "metadata": {
    "scrolled": true
   },
   "outputs": [
    {
     "data": {
      "text/plain": [
       "origin     destination         \n",
       "Singapore  Thailand                4017000000\n",
       "Japan      Mexico                  3918000000\n",
       "China      Thailand                3831000000\n",
       "Malaysia   Thailand                3482000000\n",
       "China      United Arab Emirates    3357000000\n",
       "           Japan                   3237000000\n",
       "Mexico     USA                     2365000000\n",
       "Japan      United Arab Emirates    2238000000\n",
       "Spain      Germany                 2044000000\n",
       "Germany    Mexico                  1804000000\n",
       "Name: total_value, dtype: int64"
      ]
     },
     "execution_count": 16,
     "metadata": {},
     "output_type": "execute_result"
    }
   ],
   "source": [
    "# Mostramos las 10 rutas de importaciones con mayor ingreso total\n",
    "routesImp.head(10)"
   ]
  },
  {
   "cell_type": "code",
   "execution_count": 17,
   "id": "69149a14",
   "metadata": {},
   "outputs": [],
   "source": [
    "# Se agrupan todas las rutas\n",
    "allRoutes = sldb.groupby(['origin','destination'])\n",
    "# Se obtienen los valores de suma total por ruta y conteo total por ruta\n",
    "values_routes = allRoutes['total_value'].sum()\n",
    "# part.head(int(len(part)*0.8)) # Es el 80%\n",
    "values_counts = allRoutes['register_id'].count()"
   ]
  },
  {
   "cell_type": "code",
   "execution_count": 18,
   "id": "ac41efa2",
   "metadata": {},
   "outputs": [],
   "source": [
    "# Se crea un dataframe para guardar la informacion obtenida\n",
    "info_routes = pd.DataFrame()\n",
    "info_routes['suma'] = values_routes\n",
    "info_routes['conteo'] = values_counts\n",
    "# Se genera una columna con el porcentaje absoluto para cada renglon\n",
    "info_routes['suma_perc'] = (info_routes['suma'] / \n",
    "                            info_routes['suma'].sum()) * 100"
   ]
  },
  {
   "cell_type": "code",
   "execution_count": 19,
   "id": "5193f33c",
   "metadata": {
    "scrolled": true
   },
   "outputs": [
    {
     "name": "stdout",
     "output_type": "stream",
     "text": [
      "                                suma  conteo  suma_perc  perc_cumsum\n",
      "origin      destination                                             \n",
      "China       Mexico       12494000000     351   5.792538     5.792538\n",
      "Canada      Mexico        8450000000     261   3.917636     9.710174\n",
      "South Korea Vietnam       6877007000     497   3.188356    12.898530\n",
      "China       Japan         5891000000     343   2.731218    15.629748\n",
      "Japan       Mexico        5829000000     385   2.702473    18.332222\n",
      "...                              ...     ...        ...          ...\n",
      "Netherlands Argentina          36000      29   0.000017    99.999968\n",
      "            Mexico             28000      24   0.000013    99.999981\n",
      "France      Russia             20000      13   0.000009    99.999990\n",
      "            Netherlands        14000      20   0.000006    99.999997\n",
      "            Austria             7000       7   0.000003   100.000000\n",
      "\n",
      "[172 rows x 4 columns]\n"
     ]
    }
   ],
   "source": [
    "# Se ordenan los valores del porcentaje de cada renglon de mayor a menor\n",
    "info_routes = info_routes.sort_values(by='suma_perc',ascending=False)\n",
    "# Se genera una columna con el porcentaje acumulado\n",
    "info_routes['perc_cumsum'] = info_routes['suma_perc'].cumsum()\n",
    "print(info_routes)\n",
    "# Se filtra por las rutas que sumadas aportan un valor de hasta 80 porciento\n",
    "info_routes_filtered = info_routes[info_routes['perc_cumsum']<=80]\n",
    "info_routes_filtered = info_routes_filtered.reset_index()"
   ]
  },
  {
   "cell_type": "code",
   "execution_count": 20,
   "id": "190b99ea",
   "metadata": {
    "scrolled": false
   },
   "outputs": [
    {
     "data": {
      "text/plain": [
       "0                Argentina\n",
       "1                  Belgium\n",
       "2               Belorussia\n",
       "3                   Brazil\n",
       "4                   Canada\n",
       "5                    China\n",
       "6                   France\n",
       "7                  Germany\n",
       "8                    India\n",
       "9                    Italy\n",
       "10                   Japan\n",
       "11                Malaysia\n",
       "12                  Mexico\n",
       "13             Netherlands\n",
       "14                  Russia\n",
       "15               Singapore\n",
       "16             South Korea\n",
       "17                   Spain\n",
       "18                Thailand\n",
       "19                  Turkey\n",
       "20                     USA\n",
       "21    United Arab Emirates\n",
       "22          United Kingdom\n",
       "23                 Vietnam\n",
       "dtype: object"
      ]
     },
     "execution_count": 20,
     "metadata": {},
     "output_type": "execute_result"
    }
   ],
   "source": [
    "countriesMostValued = np.unique( info_routes_filtered[['origin','destination']].values )\n",
    "pd.Series(countriesMostValued)"
   ]
  },
  {
   "cell_type": "code",
   "execution_count": 21,
   "id": "7d43c6b1",
   "metadata": {
    "scrolled": false
   },
   "outputs": [
    {
     "data": {
      "text/plain": [
       "<AxesSubplot:xlabel='origin', ylabel='suma'>"
      ]
     },
     "execution_count": 21,
     "metadata": {},
     "output_type": "execute_result"
    },
    {
     "data": {
      "image/png": "[encoded data removed]",
      "text/plain": [
       "<Figure size 1080x576 with 1 Axes>"
      ]
     },
     "metadata": {},
     "output_type": "display_data"
    }
   ],
   "source": [
    "sns.lineplot(data=info_routes_filtered,x='origin',y='suma')"
   ]
  }
 ],
 "metadata": {
  "kernelspec": {
   "display_name": "Python 3 (ipykernel)",
   "language": "python",
   "name": "python3"
  },
  "language_info": {
   "codemirror_mode": {
    "name": "ipython",
    "version": 3
   },
   "file_extension": ".py",
   "mimetype": "text/x-python",
   "name": "python",
   "nbconvert_exporter": "python",
   "pygments_lexer": "ipython3",
   "version": "3.9.7"
  }
 },
 "nbformat": 4,
 "nbformat_minor": 5
}
